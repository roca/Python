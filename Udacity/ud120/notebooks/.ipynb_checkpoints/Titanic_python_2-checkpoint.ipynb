{
 "cells": [
  {
   "cell_type": "code",
   "execution_count": 7,
   "metadata": {
    "colab": {
     "base_uri": "https://localhost:8080/",
     "height": 364
    },
    "colab_type": "code",
    "executionInfo": {
     "elapsed": 2724,
     "status": "ok",
     "timestamp": 1562951168035,
     "user": {
      "displayName": "Romel Campbell",
      "photoUrl": "https://lh6.googleusercontent.com/-cuqha_1hAkA/AAAAAAAAAAI/AAAAAAAAAAA/ACGeOJqgjdw/s64/photo.jpg",
      "userId": "11359987099991631931"
     },
     "user_tz": 240
    },
    "id": "BPXyM6-DufMD",
    "outputId": "3b7f3193-10ee-4a50-80a0-5e444d006d97"
   },
   "outputs": [
    {
     "name": "stdout",
     "output_type": "stream",
     "text": [
      "<class 'pandas.core.frame.DataFrame'>\n",
      "RangeIndex: 891 entries, 0 to 890\n",
      "Data columns (total 12 columns):\n",
      "PassengerId    891 non-null int64\n",
      "Survived       891 non-null int64\n",
      "Pclass         891 non-null int64\n",
      "Name           891 non-null object\n",
      "Sex            891 non-null object\n",
      "Age            714 non-null float64\n",
      "SibSp          891 non-null int64\n",
      "Parch          891 non-null int64\n",
      "Ticket         891 non-null object\n",
      "Fare           891 non-null float64\n",
      "Cabin          204 non-null object\n",
      "Embarked       889 non-null object\n",
      "dtypes: float64(2), int64(5), object(5)\n",
      "memory usage: 83.6+ KB\n",
      "None\n",
      "----------------------------------\n"
     ]
    }
   ],
   "source": [
    "# from google.colab import drive\n",
    "# drive.mount('/content/gdrive', force_remount=True)\n",
    "\n",
    "import numpy as np\n",
    "import pandas as pd\n",
    "import re as re\n",
    "\n",
    "\n",
    "train = pd.read_csv('data/titanic/train.csv', header = 0, dtype={'Age': np.float64})\n",
    "test  = pd.read_csv('data/titanic/test.csv' , header = 0, dtype={'Age': np.float64})\n",
    "full_data = [train, test]\n",
    "\n",
    "line_break = \"----------------------------------\"\n",
    "\n",
    "print (train.info())\n",
    "print (line_break)\n",
    "\n"
   ]
  },
  {
   "cell_type": "code",
   "execution_count": 8,
   "metadata": {
    "colab": {
     "base_uri": "https://localhost:8080/",
     "height": 104
    },
    "colab_type": "code",
    "executionInfo": {
     "elapsed": 2718,
     "status": "ok",
     "timestamp": 1562951168036,
     "user": {
      "displayName": "Romel Campbell",
      "photoUrl": "https://lh6.googleusercontent.com/-cuqha_1hAkA/AAAAAAAAAAI/AAAAAAAAAAA/ACGeOJqgjdw/s64/photo.jpg",
      "userId": "11359987099991631931"
     },
     "user_tz": 240
    },
    "id": "qD5ApJzBXpHi",
    "outputId": "db363005-78f4-4120-cdde-586bc78e51c3",
    "scrolled": true
   },
   "outputs": [
    {
     "name": "stdout",
     "output_type": "stream",
     "text": [
      "   Pclass  Survived\n",
      "0       1  0.629630\n",
      "1       2  0.472826\n",
      "2       3  0.242363\n",
      "----------------------------------\n"
     ]
    }
   ],
   "source": [
    "print (train[['Pclass', 'Survived']].groupby(['Pclass'], as_index=False).mean())\n",
    "print (line_break)"
   ]
  },
  {
   "cell_type": "code",
   "execution_count": 9,
   "metadata": {
    "colab": {
     "base_uri": "https://localhost:8080/",
     "height": 87
    },
    "colab_type": "code",
    "executionInfo": {
     "elapsed": 2713,
     "status": "ok",
     "timestamp": 1562951168037,
     "user": {
      "displayName": "Romel Campbell",
      "photoUrl": "https://lh6.googleusercontent.com/-cuqha_1hAkA/AAAAAAAAAAI/AAAAAAAAAAA/ACGeOJqgjdw/s64/photo.jpg",
      "userId": "11359987099991631931"
     },
     "user_tz": 240
    },
    "id": "DD1d8u3NYEB9",
    "outputId": "107759e6-2576-4b2d-f1c0-09ddb1cbcdb7"
   },
   "outputs": [
    {
     "name": "stdout",
     "output_type": "stream",
     "text": [
      "      Sex  Survived\n",
      "0  female  0.742038\n",
      "1    male  0.188908\n",
      "----------------------------------\n"
     ]
    }
   ],
   "source": [
    "print (train[[\"Sex\", \"Survived\"]].groupby(['Sex'], as_index=False).mean())\n",
    "print (line_break)"
   ]
  },
  {
   "cell_type": "code",
   "execution_count": 10,
   "metadata": {
    "colab": {
     "base_uri": "https://localhost:8080/",
     "height": 208
    },
    "colab_type": "code",
    "executionInfo": {
     "elapsed": 2816,
     "status": "ok",
     "timestamp": 1562951168146,
     "user": {
      "displayName": "Romel Campbell",
      "photoUrl": "https://lh6.googleusercontent.com/-cuqha_1hAkA/AAAAAAAAAAI/AAAAAAAAAAA/ACGeOJqgjdw/s64/photo.jpg",
      "userId": "11359987099991631931"
     },
     "user_tz": 240
    },
    "id": "-uYBbM66YMTw",
    "outputId": "4f4be3f1-bad4-498a-d3f6-98a4685d7d4a"
   },
   "outputs": [
    {
     "name": "stdout",
     "output_type": "stream",
     "text": [
      "   FamilySize  Survived\n",
      "0           1  0.303538\n",
      "1           2  0.552795\n",
      "2           3  0.578431\n",
      "3           4  0.724138\n",
      "4           5  0.200000\n",
      "5           6  0.136364\n",
      "6           7  0.333333\n",
      "7           8  0.000000\n",
      "8          11  0.000000\n",
      "----------------------------------\n"
     ]
    }
   ],
   "source": [
    "for dataset in full_data:\n",
    "    dataset['FamilySize'] = dataset['SibSp'] + dataset['Parch'] + 1\n",
    "print (train[['FamilySize', 'Survived']].groupby(['FamilySize'], as_index=False).mean())\n",
    "print (line_break)"
   ]
  },
  {
   "cell_type": "code",
   "execution_count": 11,
   "metadata": {
    "colab": {
     "base_uri": "https://localhost:8080/",
     "height": 87
    },
    "colab_type": "code",
    "executionInfo": {
     "elapsed": 2812,
     "status": "ok",
     "timestamp": 1562951168147,
     "user": {
      "displayName": "Romel Campbell",
      "photoUrl": "https://lh6.googleusercontent.com/-cuqha_1hAkA/AAAAAAAAAAI/AAAAAAAAAAA/ACGeOJqgjdw/s64/photo.jpg",
      "userId": "11359987099991631931"
     },
     "user_tz": 240
    },
    "id": "kEkC4MYxYSfL",
    "outputId": "40622ed2-16b4-405e-c4b9-ea5262f8f0a7"
   },
   "outputs": [
    {
     "name": "stdout",
     "output_type": "stream",
     "text": [
      "   IsAlone  Survived\n",
      "0        0  0.505650\n",
      "1        1  0.303538\n",
      "----------------------------------\n"
     ]
    }
   ],
   "source": [
    "for dataset in full_data:\n",
    "    dataset['IsAlone'] = 0\n",
    "    dataset.loc[dataset['FamilySize'] == 1, 'IsAlone'] = 1\n",
    "print (train[['IsAlone', 'Survived']].groupby(['IsAlone'], as_index=False).mean())\n",
    "print (line_break)"
   ]
  },
  {
   "cell_type": "code",
   "execution_count": 12,
   "metadata": {
    "colab": {
     "base_uri": "https://localhost:8080/",
     "height": 104
    },
    "colab_type": "code",
    "executionInfo": {
     "elapsed": 2806,
     "status": "ok",
     "timestamp": 1562951168147,
     "user": {
      "displayName": "Romel Campbell",
      "photoUrl": "https://lh6.googleusercontent.com/-cuqha_1hAkA/AAAAAAAAAAI/AAAAAAAAAAA/ACGeOJqgjdw/s64/photo.jpg",
      "userId": "11359987099991631931"
     },
     "user_tz": 240
    },
    "id": "BrehnG33YYJ1",
    "outputId": "4412ca1a-2204-4921-9b0a-7ad68266face"
   },
   "outputs": [
    {
     "name": "stdout",
     "output_type": "stream",
     "text": [
      "  Embarked  Survived\n",
      "0        C  0.553571\n",
      "1        Q  0.389610\n",
      "2        S  0.339009\n",
      "----------------------------------\n"
     ]
    }
   ],
   "source": [
    "for dataset in full_data:\n",
    "    dataset['Embarked'] = dataset['Embarked'].fillna('S')\n",
    "print (train[['Embarked', 'Survived']].groupby(['Embarked'], as_index=False).mean())\n",
    "print (line_break)"
   ]
  },
  {
   "cell_type": "code",
   "execution_count": 13,
   "metadata": {
    "colab": {
     "base_uri": "https://localhost:8080/",
     "height": 121
    },
    "colab_type": "code",
    "executionInfo": {
     "elapsed": 2915,
     "status": "ok",
     "timestamp": 1562951168261,
     "user": {
      "displayName": "Romel Campbell",
      "photoUrl": "https://lh6.googleusercontent.com/-cuqha_1hAkA/AAAAAAAAAAI/AAAAAAAAAAA/ACGeOJqgjdw/s64/photo.jpg",
      "userId": "11359987099991631931"
     },
     "user_tz": 240
    },
    "id": "_ht1RcpzYd_4",
    "outputId": "17279c49-4a55-406b-c1b2-0e030b04957b"
   },
   "outputs": [
    {
     "name": "stdout",
     "output_type": "stream",
     "text": [
      "   CategoricalFare  Survived\n",
      "0   (-0.001, 7.91]  0.197309\n",
      "1   (7.91, 14.454]  0.303571\n",
      "2   (14.454, 31.0]  0.454955\n",
      "3  (31.0, 512.329]  0.581081\n",
      "----------------------------------\n"
     ]
    }
   ],
   "source": [
    "for dataset in full_data:\n",
    "    dataset['Fare'] = dataset['Fare'].fillna(train['Fare'].median())\n",
    "train['CategoricalFare'] = pd.qcut(train['Fare'], 4)\n",
    "print (train[['CategoricalFare', 'Survived']].groupby(['CategoricalFare'], as_index=False).mean())\n",
    "print (line_break)"
   ]
  },
  {
   "cell_type": "code",
   "execution_count": 14,
   "metadata": {
    "colab": {
     "base_uri": "https://localhost:8080/",
     "height": 225
    },
    "colab_type": "code",
    "executionInfo": {
     "elapsed": 3260,
     "status": "ok",
     "timestamp": 1562951168611,
     "user": {
      "displayName": "Romel Campbell",
      "photoUrl": "https://lh6.googleusercontent.com/-cuqha_1hAkA/AAAAAAAAAAI/AAAAAAAAAAA/ACGeOJqgjdw/s64/photo.jpg",
      "userId": "11359987099991631931"
     },
     "user_tz": 240
    },
    "id": "ky4T3zFwYlyr",
    "outputId": "6bbc0c58-0e40-4d68-a650-6337bac55c9c"
   },
   "outputs": [
    {
     "name": "stdout",
     "output_type": "stream",
     "text": [
      "  CategoricalAge  Survived\n",
      "0  (-0.08, 16.0]  0.522523\n",
      "1   (16.0, 32.0]  0.349887\n",
      "2   (32.0, 48.0]  0.381323\n",
      "3   (48.0, 64.0]  0.434783\n",
      "4   (64.0, 80.0]  0.090909\n",
      "----------------------------------\n"
     ]
    },
    {
     "name": "stderr",
     "output_type": "stream",
     "text": [
      "/opt/conda/lib/python2.7/site-packages/ipykernel_launcher.py:7: SettingWithCopyWarning: \n",
      "A value is trying to be set on a copy of a slice from a DataFrame\n",
      "\n",
      "See the caveats in the documentation: http://pandas.pydata.org/pandas-docs/stable/indexing.html#indexing-view-versus-copy\n",
      "  import sys\n"
     ]
    }
   ],
   "source": [
    "for dataset in full_data:\n",
    "    age_avg \t   = dataset['Age'].mean()\n",
    "    age_std \t   = dataset['Age'].std()\n",
    "    age_null_count = dataset['Age'].isnull().sum()\n",
    "    \n",
    "    age_null_random_list = np.random.randint(age_avg - age_std, age_avg + age_std, size=age_null_count)\n",
    "    dataset['Age'][np.isnan(dataset['Age'])] = age_null_random_list\n",
    "    dataset['Age'] = dataset['Age'].astype(int)\n",
    "    \n",
    "train['CategoricalAge'] = pd.cut(train['Age'], 5)\n",
    "print (train[['CategoricalAge', 'Survived']].groupby(['CategoricalAge'], as_index=False).mean())\n",
    "print (line_break)"
   ]
  },
  {
   "cell_type": "code",
   "execution_count": 15,
   "metadata": {
    "colab": {
     "base_uri": "https://localhost:8080/",
     "height": 364
    },
    "colab_type": "code",
    "executionInfo": {
     "elapsed": 3258,
     "status": "ok",
     "timestamp": 1562951168614,
     "user": {
      "displayName": "Romel Campbell",
      "photoUrl": "https://lh6.googleusercontent.com/-cuqha_1hAkA/AAAAAAAAAAI/AAAAAAAAAAA/ACGeOJqgjdw/s64/photo.jpg",
      "userId": "11359987099991631931"
     },
     "user_tz": 240
    },
    "id": "Mkoz71uUZQCj",
    "outputId": "bab94102-a7be-4742-bcaf-1084205f194f"
   },
   "outputs": [
    {
     "name": "stdout",
     "output_type": "stream",
     "text": [
      "Sex       female  male\n",
      "Title                 \n",
      "Capt           0     1\n",
      "Col            0     2\n",
      "Countess       1     0\n",
      "Don            0     1\n",
      "Dr             1     6\n",
      "Jonkheer       0     1\n",
      "Lady           1     0\n",
      "Major          0     2\n",
      "Master         0    40\n",
      "Miss         182     0\n",
      "Mlle           2     0\n",
      "Mme            1     0\n",
      "Mr             0   517\n",
      "Mrs          125     0\n",
      "Ms             1     0\n",
      "Rev            0     6\n",
      "Sir            0     1\n",
      "----------------------------------\n"
     ]
    }
   ],
   "source": [
    "def get_title(name):\n",
    "    \ttitle_search = re.search(' ([A-Za-z]+)\\.', name)\n",
    "\t# If the title exists, extract and return it.\n",
    "\tif title_search:\n",
    "\t\treturn title_search.group(1)\n",
    "\treturn \"\"\n",
    "\n",
    "for dataset in full_data:\n",
    "    dataset['Title'] = dataset['Name'].apply(get_title)\n",
    "\n",
    "print(pd.crosstab(train['Title'], train['Sex']))\n",
    "print (line_break)"
   ]
  },
  {
   "cell_type": "code",
   "execution_count": 16,
   "metadata": {
    "colab": {
     "base_uri": "https://localhost:8080/",
     "height": 139
    },
    "colab_type": "code",
    "executionInfo": {
     "elapsed": 3253,
     "status": "ok",
     "timestamp": 1562951168614,
     "user": {
      "displayName": "Romel Campbell",
      "photoUrl": "https://lh6.googleusercontent.com/-cuqha_1hAkA/AAAAAAAAAAI/AAAAAAAAAAA/ACGeOJqgjdw/s64/photo.jpg",
      "userId": "11359987099991631931"
     },
     "user_tz": 240
    },
    "id": "g58KwXAYZwoU",
    "outputId": "09b98198-a0e9-445a-9a6e-60c69657ed50"
   },
   "outputs": [
    {
     "name": "stdout",
     "output_type": "stream",
     "text": [
      "    Title  Survived\n",
      "0  Master  0.575000\n",
      "1    Miss  0.702703\n",
      "2      Mr  0.156673\n",
      "3     Mrs  0.793651\n",
      "4    Rare  0.347826\n",
      "----------------------------------\n"
     ]
    }
   ],
   "source": [
    "for dataset in full_data:\n",
    "    dataset['Title'] = dataset['Title'].replace(['Lady', 'Countess','Capt', 'Col',\\\n",
    " \t'Don', 'Dr', 'Major', 'Rev', 'Sir', 'Jonkheer', 'Dona'], 'Rare')\n",
    "\n",
    "    dataset['Title'] = dataset['Title'].replace('Mlle', 'Miss')\n",
    "    dataset['Title'] = dataset['Title'].replace('Ms', 'Miss')\n",
    "    dataset['Title'] = dataset['Title'].replace('Mme', 'Mrs')\n",
    "\n",
    "print (train[['Title', 'Survived']].groupby(['Title'], as_index=False).mean())\n",
    "print (line_break)"
   ]
  },
  {
   "cell_type": "code",
   "execution_count": 17,
   "metadata": {
    "colab": {
     "base_uri": "https://localhost:8080/",
     "height": 208
    },
    "colab_type": "code",
    "executionInfo": {
     "elapsed": 3346,
     "status": "ok",
     "timestamp": 1562951168713,
     "user": {
      "displayName": "Romel Campbell",
      "photoUrl": "https://lh6.googleusercontent.com/-cuqha_1hAkA/AAAAAAAAAAI/AAAAAAAAAAA/ACGeOJqgjdw/s64/photo.jpg",
      "userId": "11359987099991631931"
     },
     "user_tz": 240
    },
    "id": "qApB7_z6aJd_",
    "outputId": "a88219de-89e3-4716-bf2c-d0fd5e266755"
   },
   "outputs": [
    {
     "name": "stdout",
     "output_type": "stream",
     "text": [
      "   Survived  Pclass  Sex  Age  Fare  Embarked  IsAlone  Title\n",
      "0         0       3    1    1     0         0        0      1\n",
      "1         1       1    0    2     3         1        0      3\n",
      "2         1       3    0    1     1         0        1      2\n",
      "3         1       1    0    2     3         0        0      3\n",
      "4         0       3    1    2     1         0        1      1\n",
      "5         0       3    1    1     1         2        1      1\n",
      "6         0       1    1    3     3         0        1      1\n",
      "7         0       3    1    0     2         0        0      4\n",
      "8         1       3    0    1     1         0        0      3\n",
      "9         1       2    0    0     2         1        0      3\n"
     ]
    }
   ],
   "source": [
    "for dataset in full_data:\n",
    "    # Mapping Sex\n",
    "    dataset['Sex'] = dataset['Sex'].map( {'female': 0, 'male': 1} ).astype(int)\n",
    "    \n",
    "    # Mapping titles\n",
    "    title_mapping = {\"Mr\": 1, \"Miss\": 2, \"Mrs\": 3, \"Master\": 4, \"Rare\": 5}\n",
    "    dataset['Title'] = dataset['Title'].map(title_mapping)\n",
    "    dataset['Title'] = dataset['Title'].fillna(0)\n",
    "    \n",
    "    # Mapping Embarked\n",
    "    dataset['Embarked'] = dataset['Embarked'].map( {'S': 0, 'C': 1, 'Q': 2} ).astype(int)\n",
    "    \n",
    "    # Mapping Fare\n",
    "    dataset.loc[ dataset['Fare'] <= 7.91, 'Fare'] \t\t\t\t\t\t        = 0\n",
    "    dataset.loc[(dataset['Fare'] > 7.91) & (dataset['Fare'] <= 14.454), 'Fare'] = 1\n",
    "    dataset.loc[(dataset['Fare'] > 14.454) & (dataset['Fare'] <= 31), 'Fare']   = 2\n",
    "    dataset.loc[ dataset['Fare'] > 31, 'Fare'] \t\t\t\t\t\t\t        = 3\n",
    "    dataset['Fare'] = dataset['Fare'].astype(int)\n",
    "    \n",
    "    # Mapping Age\n",
    "    dataset.loc[ dataset['Age'] <= 16, 'Age'] \t\t\t\t\t       = 0\n",
    "    dataset.loc[(dataset['Age'] > 16) & (dataset['Age'] <= 32), 'Age'] = 1\n",
    "    dataset.loc[(dataset['Age'] > 32) & (dataset['Age'] <= 48), 'Age'] = 2\n",
    "    dataset.loc[(dataset['Age'] > 48) & (dataset['Age'] <= 64), 'Age'] = 3\n",
    "    dataset.loc[ dataset['Age'] > 64, 'Age']                           = 4\n",
    "\n",
    "# Feature Selection\n",
    "drop_elements = ['PassengerId', 'Name', 'Ticket', 'Cabin', 'SibSp',\\\n",
    "                 'Parch', 'FamilySize']\n",
    "train = train.drop(drop_elements, axis = 1)\n",
    "train = train.drop(['CategoricalAge', 'CategoricalFare'], axis = 1)\n",
    "\n",
    "test  = test.drop(drop_elements, axis = 1)\n",
    "\n",
    "print (train.head(10))"
   ]
  },
  {
   "cell_type": "code",
   "execution_count": 18,
   "metadata": {
    "colab": {
     "base_uri": "https://localhost:8080/",
     "height": 208
    },
    "colab_type": "code",
    "executionInfo": {
     "elapsed": 6744,
     "status": "ok",
     "timestamp": 1562951172116,
     "user": {
      "displayName": "Romel Campbell",
      "photoUrl": "https://lh6.googleusercontent.com/-cuqha_1hAkA/AAAAAAAAAAI/AAAAAAAAAAA/ACGeOJqgjdw/s64/photo.jpg",
      "userId": "11359987099991631931"
     },
     "user_tz": 240
    },
    "id": "RDlIAIMhagCg",
    "outputId": "7a5edbd4-e3da-4584-b9c3-4fcb71f5ad2f"
   },
   "outputs": [
    {
     "name": "stderr",
     "output_type": "stream",
     "text": [
      "/opt/conda/lib/python2.7/site-packages/sklearn/svm/base.py:196: FutureWarning: The default value of gamma will change from 'auto' to 'scale' in version 0.22 to account better for unscaled features. Set gamma explicitly to 'auto' or 'scale' to avoid this warning.\n",
      "  \"avoid this warning.\", FutureWarning)\n",
      "/opt/conda/lib/python2.7/site-packages/sklearn/ensemble/forest.py:246: FutureWarning: The default value of n_estimators will change from 10 in version 0.20 to 100 in 0.22.\n",
      "  \"10 in version 0.20 to 100 in 0.22.\", FutureWarning)\n",
      "/opt/conda/lib/python2.7/site-packages/sklearn/linear_model/logistic.py:433: FutureWarning: Default solver will be changed to 'lbfgs' in 0.22. Specify a solver to silence this warning.\n",
      "  FutureWarning)\n"
     ]
    },
    {
     "name": "stdout",
     "output_type": "stream",
     "text": [
      "----------------------------------\n",
      "GaussianNB \t\t\t0.7744444444444444\n",
      "RandomForestClassifier \t\t\t0.8122222222222222\n",
      "LinearDiscriminantAnalysis \t\t\t0.7855555555555555\n",
      "KNeighborsClassifier \t\t\t0.7866666666666665\n",
      "AdaBoostClassifier \t\t\t0.8033333333333333\n",
      "SVC \t\t\t0.8188888888888888\n",
      "DecisionTreeClassifier \t\t\t0.8144444444444444\n",
      "QuadraticDiscriminantAnalysis \t\t\t0.8022222222222222\n",
      "LogisticRegression \t\t\t0.7877777777777777\n",
      "GradientBoostingClassifier \t\t\t0.8133333333333332\n"
     ]
    }
   ],
   "source": [
    "train = train.values\n",
    "test  = test.values\n",
    "\n",
    "\n",
    "import matplotlib.pyplot as plt\n",
    "import seaborn as sns\n",
    "\n",
    "from sklearn.model_selection import StratifiedShuffleSplit\n",
    "from sklearn.metrics import accuracy_score, log_loss\n",
    "from sklearn.neighbors import KNeighborsClassifier\n",
    "from sklearn.svm import SVC\n",
    "from sklearn.tree import DecisionTreeClassifier\n",
    "from sklearn.ensemble import RandomForestClassifier, AdaBoostClassifier, GradientBoostingClassifier\n",
    "from sklearn.naive_bayes import GaussianNB\n",
    "from sklearn.discriminant_analysis import LinearDiscriminantAnalysis, QuadraticDiscriminantAnalysis\n",
    "from sklearn.linear_model import LogisticRegression\n",
    "\n",
    "classifiers = [\n",
    "    KNeighborsClassifier(3),\n",
    "    SVC(probability=True),\n",
    "    DecisionTreeClassifier(criterion=\"entropy\"),\n",
    "    RandomForestClassifier(),\n",
    "\tAdaBoostClassifier(),\n",
    "    GradientBoostingClassifier(),\n",
    "    GaussianNB(),\n",
    "    LinearDiscriminantAnalysis(),\n",
    "    QuadraticDiscriminantAnalysis(),\n",
    "    LogisticRegression(),\n",
    "]\n",
    "\n",
    "log_cols = [\"Classifier\", \"Accuracy\"]\n",
    "log \t = pd.DataFrame(columns=log_cols)\n",
    "\n",
    "sss = StratifiedShuffleSplit(n_splits=10, test_size=0.1, random_state=0)\n",
    "\n",
    "X = train[0::, 1::]\n",
    "y = train[0::, 0]\n",
    "\n",
    "acc_dict = {}\n",
    "\n",
    "for train_index, test_index in sss.split(X, y):\n",
    "\tX_train, X_test = X[train_index], X[test_index]\n",
    "\ty_train, y_test = y[train_index], y[test_index]\n",
    "\t\n",
    "\tfor clf in classifiers:\n",
    "\t\tname = clf.__class__.__name__\n",
    "\t\tclf.fit(X_train, y_train)\n",
    "\t\ttrain_predictions = clf.predict(X_test)\n",
    "\t\tacc = accuracy_score(y_test, train_predictions)\n",
    "\t\tif name in acc_dict:\n",
    "\t\t\tacc_dict[name] += acc\n",
    "\t\telse:\n",
    "\t\t\tacc_dict[name] = acc\n",
    "        \n",
    "for clf in acc_dict:\n",
    "\tacc_dict[clf] = acc_dict[clf] / 10.0\n",
    "\tlog_entry = pd.DataFrame([[clf, acc_dict[clf]]], columns=log_cols)\n",
    "\tlog = log.append(log_entry)\n",
    "\n",
    "print (line_break)\n",
    "for clf in acc_dict:\n",
    "    print clf, \"\\t\\t\\t\",acc_dict[clf]"
   ]
  },
  {
   "cell_type": "code",
   "execution_count": 20,
   "metadata": {
    "colab": {
     "base_uri": "https://localhost:8080/",
     "height": 295
    },
    "colab_type": "code",
    "executionInfo": {
     "elapsed": 7380,
     "status": "ok",
     "timestamp": 1562951172758,
     "user": {
      "displayName": "Romel Campbell",
      "photoUrl": "https://lh6.googleusercontent.com/-cuqha_1hAkA/AAAAAAAAAAI/AAAAAAAAAAA/ACGeOJqgjdw/s64/photo.jpg",
      "userId": "11359987099991631931"
     },
     "user_tz": 240
    },
    "id": "A4MlDIwwasCN",
    "outputId": "0552ec46-7b7c-4824-82d4-ad7bd84a60f5"
   },
   "outputs": [
    {
     "data": {
      "image/png": "[encoded data removed]",
      "text/plain": [
       "<Figure size 432x288 with 1 Axes>"
      ]
     },
     "metadata": {
      "needs_background": "light"
     },
     "output_type": "display_data"
    }
   ],
   "source": [
    "plt.xlabel('Accuracy')\n",
    "plt.title('Classifier Accuracy')\n",
    "\n",
    "sns.set_color_codes(\"muted\")\n",
    "sns.barplot(x='Accuracy', y='Classifier', data=log, color=\"b\")\n",
    "\n",
    "\n",
    "\n",
    "\n",
    "candidate_classifier = KNeighborsClassifier(3)\n",
    "candidate_classifier.fit(train[0::, 1::], train[0::, 0])\n",
    "result = candidate_classifier.predict(test)\n",
    "\n",
    "f= open(\"data/titanic/gender_submission.txt\",\"w+\")\n",
    "f.write(\"%s,%s\\r\\n\" % (\"PassengerId\",\"Survived\"))\n",
    "\n",
    "for i in range(len(result)):\n",
    "    f.write(\"%d,%d\\r\\n\" % (full_data[1]['PassengerId'][i],result[i]))\n",
    "f.close()"
   ]
  },
  {
   "cell_type": "code",
   "execution_count": null,
   "metadata": {},
   "outputs": [],
   "source": []
  }
 ],
 "metadata": {
  "colab": {
   "collapsed_sections": [],
   "name": "Titanic_python_2.ipynb",
   "provenance": [
    {
     "file_id": "1AhQk3t_y432iNBelcQs4yvnugQDgJS_b",
     "timestamp": 1560964451223
    }
   ],
   "version": "0.3.2"
  },
  "kernelspec": {
   "display_name": "Python 2",
   "language": "python",
   "name": "python2"
  },
  "language_info": {
   "codemirror_mode": {
    "name": "ipython",
    "version": 2
   },
   "file_extension": ".py",
   "mimetype": "text/x-python",
   "name": "python",
   "nbconvert_exporter": "python",
   "pygments_lexer": "ipython2",
   "version": "2.7.16"
  }
 },
 "nbformat": 4,
 "nbformat_minor": 1
}
