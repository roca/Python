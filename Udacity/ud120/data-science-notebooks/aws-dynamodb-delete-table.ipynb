{
 "cells": [
  {
   "cell_type": "code",
   "execution_count": 1,
   "metadata": {
    "collapsed": false
   },
   "outputs": [
    {
     "name": "stdout",
     "output_type": "stream",
     "text": [
      "Table Census deleted\n"
     ]
    }
   ],
   "source": [
    "import boto3\n",
    "\n",
    "resource = boto3.resource('dynamodb', endpoint_url='http://localhost:8000')\n",
    "\n",
    "table_to_delete = 'Census'\n",
    "\n",
    "try:\n",
    "    table = resource.Table(table_to_delete)\n",
    "    table.delete()\n",
    "    print('Table {} deleted'.format(table_to_delete))\n",
    "\n",
    "except Exception as e:\n",
    "    if 'ResourceNotFoundException' in str(e):\n",
    "        print('Table {} does not exist'.format(table_to_delete))"
   ]
  }
 ],
 "metadata": {
  "kernelspec": {
   "display_name": "Python 3",
   "language": "python",
   "name": "python3"
  },
  "language_info": {
   "codemirror_mode": {
    "name": "ipython",
    "version": 3
   },
   "file_extension": ".py",
   "mimetype": "text/x-python",
   "name": "python",
   "nbconvert_exporter": "python",
   "pygments_lexer": "ipython3",
   "version": "3.6.0"
  }
 },
 "nbformat": 4,
 "nbformat_minor": 2
}
