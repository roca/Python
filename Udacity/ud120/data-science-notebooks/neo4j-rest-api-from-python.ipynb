{
 "cells": [
  {
   "cell_type": "markdown",
   "metadata": {},
   "source": [
    "# Neo4j REST API From Python\n",
    "\n",
    "This is a companion notebook for the new [Data Science Solutions](https://strtupsci.com) book. The code is explained in the book.\n",
    "\n",
    "This notebook provides Python sample code to access Neo4j API. It assumes that you are running a local Neo4j server with user/password credentials as supplied."
   ]
  },
  {
   "cell_type": "code",
   "execution_count": 3,
   "metadata": {
    "collapsed": false
   },
   "outputs": [
    {
     "name": "stdout",
     "output_type": "stream",
     "text": [
      "Set run_check variable to True for running this code\n"
     ]
    }
   ],
   "source": [
    "import requests\n",
    "import json\n",
    "\n",
    "run_check = False\n",
    "user = 'neo4j'\n",
    "password = 'demo'\n",
    "neo4j_server = 'http://localhost:7474'\n",
    "\n",
    "if run_check:\n",
    "    r = requests.post('{}/db/data/transaction'.format(neo4j_server), auth=(user, password))\n",
    "    print(r.status_code)\n",
    "    print(r.json())\n",
    "    commitUrl = str(r.json()['commit'])\n",
    "    commitUrl\n",
    "else:\n",
    "    print('Set run_check variable to True for running this code')"
   ]
  },
  {
   "cell_type": "code",
   "execution_count": 4,
   "metadata": {
    "collapsed": false
   },
   "outputs": [
    {
     "name": "stdout",
     "output_type": "stream",
     "text": [
      "Set run_check variable to True for running this code\n"
     ]
    }
   ],
   "source": [
    "if run_check:\n",
    "    movie_title = 'Blizzard'\n",
    "    movie_tagline = 'The winds are changing'\n",
    "    movie_release = 2014\n",
    "\n",
    "    dataJson = \"\"\"{\n",
    "      \"statements\": [\n",
    "        {\n",
    "          \"statement\": \"CREATE (m:Movie {title:'%s', tagline:'%s', released:%d});\",\n",
    "          \"parameters\": null,\n",
    "          \"resultDataContents\": [\n",
    "            \"row\",\n",
    "            \"graph\"\n",
    "          ],\n",
    "          \"includeStats\": true\n",
    "        }\n",
    "      ]\n",
    "    }\"\"\" % (movie_title, movie_tagline, movie_release)\n",
    "    r = requests.post(commitUrl, data=dataJson, auth=(user, password))\n",
    "    r.json()\n",
    "else:\n",
    "    print('Set run_check variable to True for running this code')"
   ]
  }
 ],
 "metadata": {
  "anaconda-cloud": {},
  "kernelspec": {
   "display_name": "Python [conda root]",
   "language": "python",
   "name": "conda-root-py"
  },
  "language_info": {
   "codemirror_mode": {
    "name": "ipython",
    "version": 2
   },
   "file_extension": ".py",
   "mimetype": "text/x-python",
   "name": "python",
   "nbconvert_exporter": "python",
   "pygments_lexer": "ipython2",
   "version": "2.7.12"
  }
 },
 "nbformat": 4,
 "nbformat_minor": 1
}
