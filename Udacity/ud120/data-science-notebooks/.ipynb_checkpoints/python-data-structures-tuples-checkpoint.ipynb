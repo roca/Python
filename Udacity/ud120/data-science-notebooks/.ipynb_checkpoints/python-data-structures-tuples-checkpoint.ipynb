{
 "cells": [
  {
   "cell_type": "markdown",
   "metadata": {},
   "source": [
    "# Tuples in Python\n",
    "\n",
    "This is a companion notebook to the [Data Science Solutions](https://startupsci.com) book.\n",
    "\n",
    "Unlike a List which is mutable, a Tuple is an immutable data structure in Python. Tuple and lists share several operations as being part of Python sequence types.\n",
    "\n",
    "When you do not expect the data to change, you may prefer using a Tuple over a List as these perform better.\n",
    "\n",
    "## Define tuples\n",
    "\n",
    "Tuples can be empty, contain single item, multiple items, mixed data types, nested with other tuples or other sequence types."
   ]
  },
  {
   "cell_type": "code",
   "execution_count": 2,
   "metadata": {
    "collapsed": false
   },
   "outputs": [
    {
     "data": {
      "text/plain": [
       "(4, 9, 11, 2, 1, 9, 11)"
      ]
     },
     "execution_count": 2,
     "metadata": {},
     "output_type": "execute_result"
    }
   ],
   "source": [
    "# Define a tuple as comma separate values, with(out) enclosing round brackets\n",
    "number_tuple = 4, 9, 11, 2, 1, 9, 11\n",
    "number_tuple"
   ]
  },
  {
   "cell_type": "code",
   "execution_count": 3,
   "metadata": {
    "collapsed": false
   },
   "outputs": [
    {
     "data": {
      "text/plain": [
       "(1, 'One', 2, 'Two', 3, 'Three')"
      ]
     },
     "execution_count": 3,
     "metadata": {},
     "output_type": "execute_result"
    }
   ],
   "source": [
    "# Define a mixed data type tuple\n",
    "mixed_tuple = (1, 'One', 2, 'Two', 3, 'Three')\n",
    "mixed_tuple"
   ]
  },
  {
   "cell_type": "code",
   "execution_count": 4,
   "metadata": {
    "collapsed": false
   },
   "outputs": [
    {
     "data": {
      "text/plain": [
       "((4, 9, 11, 2, 1, 9, 11), (1, 'One', 2, 'Two', 3, 'Three'))"
      ]
     },
     "execution_count": 4,
     "metadata": {},
     "output_type": "execute_result"
    }
   ],
   "source": [
    "# Define nested tuple from multiple tuples\n",
    "nested_tuple = number_tuple, mixed_tuple\n",
    "nested_tuple"
   ]
  },
  {
   "cell_type": "code",
   "execution_count": 5,
   "metadata": {
    "collapsed": false
   },
   "outputs": [
    {
     "data": {
      "text/plain": [
       "([1, 2, 3], 'abcdefg', 1, 3)"
      ]
     },
     "execution_count": 5,
     "metadata": {},
     "output_type": "execute_result"
    }
   ],
   "source": [
    "# Define tuple of other sequence types\n",
    "number_list = [1, 2, 3]\n",
    "simple_string = 'abcdefg'\n",
    "sequence_tuple = number_list, simple_string, 1, 3\n",
    "sequence_tuple"
   ]
  },
  {
   "cell_type": "code",
   "execution_count": 6,
   "metadata": {
    "collapsed": false
   },
   "outputs": [
    {
     "data": {
      "text/plain": [
       "('One',)"
      ]
     },
     "execution_count": 6,
     "metadata": {},
     "output_type": "execute_result"
    }
   ],
   "source": [
    "# Define tuple of one item with trailing comma\n",
    "single_item_tuple = 'One',\n",
    "single_item_tuple"
   ]
  },
  {
   "cell_type": "code",
   "execution_count": 7,
   "metadata": {
    "collapsed": false
   },
   "outputs": [
    {
     "data": {
      "text/plain": [
       "()"
      ]
     },
     "execution_count": 7,
     "metadata": {},
     "output_type": "execute_result"
    }
   ],
   "source": [
    "# Define empty tuple\n",
    "empty_tuple = ()\n",
    "empty_tuple"
   ]
  },
  {
   "cell_type": "markdown",
   "metadata": {},
   "source": [
    "## Packing and unpacking tuples\n",
    "\n",
    "Defining a tuple as comma separated values is also called packing. Unpacking separates the packed values to multiple variables."
   ]
  },
  {
   "cell_type": "code",
   "execution_count": 8,
   "metadata": {
    "collapsed": false
   },
   "outputs": [
    {
     "name": "stdout",
     "output_type": "stream",
     "text": [
      "('Jhon', 'Doe', 32, 'Male')\n"
     ]
    }
   ],
   "source": [
    "packed_tuple = \"Jhon\", \"Doe\", 32, \"Male\"\n",
    "first, last, age, sex = packed_tuple\n",
    "print(first, last, age, sex)"
   ]
  }
 ],
 "metadata": {
  "anaconda-cloud": {},
  "kernelspec": {
   "display_name": "Python [conda root]",
   "language": "python",
   "name": "conda-root-py"
  },
  "language_info": {
   "codemirror_mode": {
    "name": "ipython",
    "version": 2
   },
   "file_extension": ".py",
   "mimetype": "text/x-python",
   "name": "python",
   "nbconvert_exporter": "python",
   "pygments_lexer": "ipython2",
   "version": "2.7.12"
  }
 },
 "nbformat": 4,
 "nbformat_minor": 1
}
