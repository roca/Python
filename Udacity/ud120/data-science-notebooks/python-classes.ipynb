{
 "cells": [
  {
   "cell_type": "markdown",
   "metadata": {},
   "source": [
    "# Classes in Python\n",
    "\n"
   ]
  },
  {
   "cell_type": "markdown",
   "metadata": {},
   "source": [
    "## Define a class\n",
    "\n",
    "A Python class can be defined using the `class` statement."
   ]
  },
  {
   "cell_type": "code",
   "execution_count": 97,
   "metadata": {
    "collapsed": false
   },
   "outputs": [
    {
     "data": {
      "text/plain": [
       "'Car has started'"
      ]
     },
     "execution_count": 97,
     "metadata": {},
     "output_type": "execute_result"
    }
   ],
   "source": [
    "# Define class\n",
    "class Car:\n",
    "    \"\"\"This is a car class. Described by docstring\"\"\"\n",
    "    def start(self):\n",
    "        \"\"\"Define public class method\"\"\"\n",
    "        return('Car has started')\n",
    "\n",
    "# Create class object\n",
    "bmw = Car()\n",
    "\n",
    "# Call public class method\n",
    "bmw.start()"
   ]
  },
  {
   "cell_type": "code",
   "execution_count": 98,
   "metadata": {
    "collapsed": false
   },
   "outputs": [
    {
     "name": "stdout",
     "output_type": "stream",
     "text": [
      "Help on class Car in module __main__:\n",
      "\n",
      "class Car\n",
      " |  This is a car class. Described by docstring\n",
      " |  \n",
      " |  Methods defined here:\n",
      " |  \n",
      " |  start(self)\n",
      " |      Define public class method, bind to containing class using self\n",
      "\n"
     ]
    }
   ],
   "source": [
    "# Retrieve class documentation\n",
    "help(Car)"
   ]
  },
  {
   "cell_type": "code",
   "execution_count": 99,
   "metadata": {
    "collapsed": false
   },
   "outputs": [
    {
     "data": {
      "text/plain": [
       "(4, 4)"
      ]
     },
     "execution_count": 99,
     "metadata": {},
     "output_type": "execute_result"
    }
   ],
   "source": [
    "# Define class by extending or inheriting a parent class\n",
    "class WheelCar(Car):\n",
    "    # Define class variable shared by all instances of this class\n",
    "    wheels = 4\n",
    "    \n",
    "ford = WheelCar()\n",
    "anotherFord = WheelCar()\n",
    "ford.wheels, anotherFord.wheels"
   ]
  },
  {
   "cell_type": "code",
   "execution_count": 100,
   "metadata": {
    "collapsed": false
   },
   "outputs": [
    {
     "data": {
      "text/plain": [
       "('Porsche brand car has 4 wheels', 'Mustang brand car has 4 wheels')"
      ]
     },
     "execution_count": 100,
     "metadata": {},
     "output_type": "execute_result"
    }
   ],
   "source": [
    "# Define class with an initializer or constructor\n",
    "class BrandCar(BrandCar):\n",
    "    # Initialize with instance variable specific to each instance \n",
    "    def __init__(self, brand):\n",
    "        self.brand = brand\n",
    "    \n",
    "    def about(self):\n",
    "        return(self.brand + ' brand car has ' \\\n",
    "               + str(self.wheels) + ' wheels' )\n",
    "\n",
    "porsche = BrandCar(brand='Porsche')\n",
    "mustang = BrandCar(brand='Mustang')\n",
    "porsche.about(), mustang.about()"
   ]
  },
  {
   "cell_type": "markdown",
   "metadata": {},
   "source": [
    "## Attribute operations\n",
    "\n",
    "Using `hasattr`, `setattr`, `getattr`, and `del` functions you can perform operations on class methods, instance variables, and class variables."
   ]
  },
  {
   "cell_type": "code",
   "execution_count": 101,
   "metadata": {
    "collapsed": false
   },
   "outputs": [
    {
     "data": {
      "text/plain": [
       "(True, True, True, True, False)"
      ]
     },
     "execution_count": 101,
     "metadata": {},
     "output_type": "execute_result"
    }
   ],
   "source": [
    "# Methods, class and instance variables are attributes\n",
    "hasattr(mustang, 'wheels'), hasattr(mustang, 'brand'), \\\n",
    "hasattr(mustang, 'about'), hasattr(mustang, 'start'), \\\n",
    "hasattr(mustang, 'engine')"
   ]
  },
  {
   "cell_type": "code",
   "execution_count": 105,
   "metadata": {
    "collapsed": false
   },
   "outputs": [
    {
     "data": {
      "text/plain": [
       "(True, False)"
      ]
     },
     "execution_count": 105,
     "metadata": {},
     "output_type": "execute_result"
    }
   ],
   "source": [
    "# New instance variables can be created by assignment\n",
    "mustang.engine = 'V8'\n",
    "hasattr(mustang, 'engine'), hasattr(porsche, 'engine')"
   ]
  },
  {
   "cell_type": "code",
   "execution_count": 102,
   "metadata": {
    "collapsed": false
   },
   "outputs": [
    {
     "data": {
      "text/plain": [
       "'Mustang Plus'"
      ]
     },
     "execution_count": 102,
     "metadata": {},
     "output_type": "execute_result"
    }
   ],
   "source": [
    "# Set and get attributes\n",
    "setattr(mustang, 'brand', 'Mustang Plus')\n",
    "getattr(mustang, 'brand')"
   ]
  },
  {
   "cell_type": "code",
   "execution_count": 103,
   "metadata": {
    "collapsed": false
   },
   "outputs": [
    {
     "data": {
      "text/plain": [
       "False"
      ]
     },
     "execution_count": 103,
     "metadata": {},
     "output_type": "execute_result"
    }
   ],
   "source": [
    "# Instance variable reference can be deleted\n",
    "del mustang.brand\n",
    "hasattr(mustang, 'brand')"
   ]
  }
 ],
 "metadata": {
  "anaconda-cloud": {},
  "kernelspec": {
   "display_name": "Python [conda root]",
   "language": "python",
   "name": "conda-root-py"
  },
  "language_info": {
   "codemirror_mode": {
    "name": "ipython",
    "version": 2
   },
   "file_extension": ".py",
   "mimetype": "text/x-python",
   "name": "python",
   "nbconvert_exporter": "python",
   "pygments_lexer": "ipython2",
   "version": "2.7.12"
  }
 },
 "nbformat": 4,
 "nbformat_minor": 1
}
